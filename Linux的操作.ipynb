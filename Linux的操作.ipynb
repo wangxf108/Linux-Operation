{
 "cells": [
  {
   "cell_type": "markdown",
   "id": "8750562f",
   "metadata": {},
   "source": [
    " ## Linux的常用操作\n",
    " "
   ]
  },
  {
   "cell_type": "markdown",
   "id": "1b3de683",
   "metadata": {},
   "source": [
    "### 1.处理目录"
   ]
  },
  {
   "cell_type": "markdown",
   "id": "62fe460c",
   "metadata": {},
   "source": [
    "#### ls （list files）: 列出目录及文件名\n",
    "\n",
    "    ls -a ：全部的文件，连同隐藏文件( 开头为 . 的文件) 一起列出来(常用)\n",
    "\n",
    "    ls -d ：仅列出目录本身，而不是列出目录内的文件数据(常用)\n",
    "\n",
    "    ls -l ：长数据串列出，包含文件的属性与权限等等数据；(常用)"
   ]
  },
  {
   "cell_type": "markdown",
   "id": "6d2c62ce",
   "metadata": {},
   "source": [
    "#### cd （change directory）: 切换目录\n",
    "    \n",
    "    cd / : 回到根目录\n",
    "    \n",
    "    cd ~ : 回到根目录\n",
    "    \n",
    "    cd .. : 去到目前位置的上一级目录\n",
    "    \n",
    "    cd /root/aaa/ : 去到root文件中的aaa文件夹中\n",
    "    "
   ]
  },
  {
   "cell_type": "markdown",
   "id": "6a557938",
   "metadata": {},
   "source": [
    "#### pwd （print work directory）: 显示目前所在的目录\n",
    "    \n",
    "    pwd -P : 会显示出当前所在位置的完整路径"
   ]
  },
  {
   "cell_type": "markdown",
   "id": "19727845",
   "metadata": {},
   "source": [
    "#### mkdir （make directory）: 创建一个新的目录\n",
    "\n",
    "    -m ：配置文件的权限\n",
    "    mkdir -m 711 test2   创建目录并且直接配置权限\n",
    "    \n",
    "    -p ：递归创建所有目录\n",
    "    mkdir test1/test2/test3/test4 \n",
    "    "
   ]
  },
  {
   "cell_type": "markdown",
   "id": "5e67e168",
   "metadata": {},
   "source": [
    "#### rmdir （remove directory）: 删除一个空的目录\n",
    "    \n",
    "    *如果目录中有文件则无法删除\n",
    "    \n",
    "    -p ：连同上一级『空的』目录也一起删除\n",
    "    rmdir -p test1/test2/test3/test4\n",
    "    \n",
    "    rm 命令来删除非空目录"
   ]
  },
  {
   "cell_type": "markdown",
   "id": "da0d5c72",
   "metadata": {},
   "source": [
    "#### *对文件的创建与删除"
   ]
  },
  {
   "cell_type": "markdown",
   "id": "0bf7efe4",
   "metadata": {},
   "source": [
    "    touch : 创建文件file¶\n",
    "\n",
    "        touch wangxf.txt\n",
    "\n",
    "    rm : 删除文件\n",
    "\n",
    "        rm aaaaa.txt"
   ]
  },
  {
   "cell_type": "markdown",
   "id": "96651d76",
   "metadata": {},
   "source": [
    "#### cp （copy file）:  复制文件或目录\n",
    "#### rm （remove）: 删除文件或目录\n",
    "\n",
    "    -f ：就是 force 的意思，忽略不存在的文件，不会出现警告信息；\n",
    "\n",
    "    -i ：互动模式，在删除前会询问使用者是否动作\n",
    "\n",
    "    -r ：递归删除啊！最常用在目录的删除了！\n",
    "    \n",
    "        # rm -i aaaaaa\n",
    "           rm: remove regular file `aaaaaa'? y"
   ]
  },
  {
   "cell_type": "markdown",
   "id": "d13740ca",
   "metadata": {},
   "source": [
    "#### mv （move file）:  移动文件与目录，或修改文件与目录的名称\n",
    "\n",
    "        mv 111.txt /home/a     将文件111移动到a 下面\n",
    "        \n",
    "        mv mvtest mvtest2     给文件mvtest 命名为 mvtest2\n",
    "    "
   ]
  },
  {
   "cell_type": "markdown",
   "id": "08fe56cc",
   "metadata": {},
   "source": [
    "#### find ：查找文件或者文件夹\n",
    "\n",
    "    find /* -name 888.txt    在所有文件夹中查找888这个文件"
   ]
  },
  {
   "cell_type": "markdown",
   "id": "8e33cec8",
   "metadata": {},
   "source": [
    "#### contrl + c 停止当前的查找过程"
   ]
  },
  {
   "cell_type": "markdown",
   "id": "9d37879b",
   "metadata": {},
   "source": [
    "####   "
   ]
  },
  {
   "cell_type": "markdown",
   "id": "8f9ce8a7",
   "metadata": {},
   "source": [
    "### 2.处理文件"
   ]
  },
  {
   "cell_type": "markdown",
   "id": "e5d01c70",
   "metadata": {},
   "source": [
    "#### touch : 创建文件file\n",
    "\n",
    "    touch wangxf.txt\n",
    "    \n",
    "#### rm : 删除文件\n",
    "\n",
    "    rm aaaaa.txt"
   ]
  },
  {
   "cell_type": "markdown",
   "id": "422c31e9",
   "metadata": {},
   "source": [
    "####   cat  由第一行开始显示文件内容"
   ]
  },
  {
   "cell_type": "markdown",
   "id": "41cff9eb",
   "metadata": {},
   "source": [
    "####   tac  从最后一行开始显示，可以看出 tac 是 cat 的倒着写！"
   ]
  },
  {
   "cell_type": "markdown",
   "id": "c9769e73",
   "metadata": {},
   "source": [
    "####   nl   显示的时候，顺道输出行号！"
   ]
  },
  {
   "cell_type": "markdown",
   "id": "b1d23a45",
   "metadata": {},
   "source": [
    "####   more 一页一页的显示文件内容"
   ]
  },
  {
   "cell_type": "markdown",
   "id": "34b78ddc",
   "metadata": {},
   "source": [
    "####   less 与 more 类似，但是比 more 更好的是，他可以往前翻页！"
   ]
  },
  {
   "cell_type": "markdown",
   "id": "92668b53",
   "metadata": {},
   "source": [
    "####   head 只看头几行\n",
    "\n",
    "    head -n 3 aaa.txt     显示aaa文件的头三行。 n 是用来指定行数的。"
   ]
  },
  {
   "cell_type": "markdown",
   "id": "a803b3e3",
   "metadata": {},
   "source": [
    "####   tail 只看尾巴几行"
   ]
  },
  {
   "cell_type": "markdown",
   "id": "47ee1c93",
   "metadata": {},
   "source": [
    "####  "
   ]
  },
  {
   "cell_type": "markdown",
   "id": "1cf56b36",
   "metadata": {},
   "source": [
    "### 3.文书编辑器"
   ]
  },
  {
   "cell_type": "markdown",
   "id": "b5e62729",
   "metadata": {},
   "source": [
    "#### 什么是vim"
   ]
  },
  {
   "cell_type": "markdown",
   "id": "525745c2",
   "metadata": {},
   "source": [
    "    Vim是从 vi 发展出来的一个文本编辑器。代码补完、编译及错误跳转等方便编程的功能特别丰富，在程序员中被广泛使用。"
   ]
  },
  {
   "cell_type": "markdown",
   "id": "81448b44",
   "metadata": {},
   "source": [
    "#### vi 开始编辑文件\n",
    "\n",
    "    ①vi 999.txt\n",
    "    ②键盘点击 i ，才能开始编辑\n",
    "    ③此时可以输入或编辑内容\n",
    "    ④点击Esc， 退出编辑\n",
    "    ⑤左下角， 输入  :wq   表示保存并退出文件编辑\n",
    "                    输入 ：q！    表示直接退出不保存\n",
    "    "
   ]
  },
  {
   "cell_type": "markdown",
   "id": "92ac14e4",
   "metadata": {},
   "source": [
    "#### vi/vim 的使用 "
   ]
  },
  {
   "cell_type": "markdown",
   "id": "09a53cac",
   "metadata": {},
   "source": [
    "#### 命令模式\n",
    "   "
   ]
  },
  {
   "cell_type": "markdown",
   "id": "0dc4491e",
   "metadata": {},
   "source": [
    "    i 切换到输入模式，以输入字符。\n",
    "\n",
    "    x 删除当前光标所在处的字符。\n",
    "\n",
    "    : 切换到底线命令模式，以在最底一行输入命令。"
   ]
  },
  {
   "cell_type": "markdown",
   "id": "df91fed5",
   "metadata": {},
   "source": [
    "#### 输入模式"
   ]
  },
  {
   "cell_type": "markdown",
   "id": "54e1deac",
   "metadata": {},
   "source": [
    "    ESC，退出输入模式，切换到命令模式\n",
    "    ENTER，回车键，换行\n",
    "    方向键，在文本中移动光标\n",
    "    Insert，切换光标为输入/替换模式，光标将变成竖线/下划线"
   ]
  },
  {
   "cell_type": "markdown",
   "id": "369ff1f2",
   "metadata": {},
   "source": [
    "#### 底线命令模式"
   ]
  },
  {
   "cell_type": "markdown",
   "id": "d23c8804",
   "metadata": {},
   "source": [
    "    ① 在命令模式下按下:（英文冒号）就进入了底线命令模式。\n",
    "\n",
    "    ②　底线命令模式可以输入单个或多个字符的命令，可用的命令非常多。\n",
    "\n",
    "    ③　在底线命令模式中，基本的命令有（已经省略了冒号）：\n",
    "\n",
    "        q 退出程序\n",
    "        w 保存文件\n",
    "        \n",
    "    ④　按ESC键可随时退出底线命令模式。\n"
   ]
  },
  {
   "cell_type": "markdown",
   "id": "1a957469",
   "metadata": {},
   "source": [
    "#### 压缩文件"
   ]
  },
  {
   "cell_type": "markdown",
   "id": "aff55cd4",
   "metadata": {},
   "source": [
    "    tar cvf yaosuo.tar 333.txt    将333文件压缩，新文件命名为 yasuo.tar"
   ]
  },
  {
   "cell_type": "markdown",
   "id": "7ae82344",
   "metadata": {},
   "source": [
    "    tar xvf yasuo.tar     将压缩了的 yasuo.tar 文件解压"
   ]
  }
 ],
 "metadata": {
  "kernelspec": {
   "display_name": "Python 3",
   "language": "python",
   "name": "python3"
  },
  "language_info": {
   "codemirror_mode": {
    "name": "ipython",
    "version": 3
   },
   "file_extension": ".py",
   "mimetype": "text/x-python",
   "name": "python",
   "nbconvert_exporter": "python",
   "pygments_lexer": "ipython3",
   "version": "3.9.2"
  }
 },
 "nbformat": 4,
 "nbformat_minor": 5
}
