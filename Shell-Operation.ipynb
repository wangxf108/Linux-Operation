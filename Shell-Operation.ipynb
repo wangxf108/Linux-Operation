{
 "cells": [
  {
   "cell_type": "markdown",
   "id": "977353fb",
   "metadata": {},
   "source": [
    "## Shell \n",
    "\n",
    "    Shell 是用C语言编写的程序， 是用户使用Linux的桥梁。既是一种命令语言， 又是一种程序设计语言。下面都是shell的脚本编程相关知识。\n",
    "\n",
    "    Shell 环境很多，以 Bourne Again Shell 为学习目标，简称BaShe，同时Bash也是大多数Linux系统默认的Shell。\n",
    "\n",
    "    Shell 文件末尾以 .sh结尾，  例如： sample.sh"
   ]
  },
  {
   "cell_type": "markdown",
   "id": "5c428359",
   "metadata": {},
   "source": [
    "###  Shell 运行"
   ]
  },
  {
   "cell_type": "markdown",
   "id": "17b903dc",
   "metadata": {},
   "source": [
    "    Shell 文件的运行方式 是    ./sample.sh \n",
    "    \n",
    "    加 ./ 的原因是告诉系统， 要运行的文件 就在当前文件夹。\n",
    "    \n",
    "    如果没有前缀符号， 只有sample, 系统会去PATH 里寻找有没有叫sample.sh的文件，而PATH中 只有 /bin, /sbin, / usr/bin, 无法找到目标文件。"
   ]
  },
  {
   "cell_type": "markdown",
   "id": "6fa784f3",
   "metadata": {},
   "source": [
    "### Shell 变量"
   ]
  },
  {
   "cell_type": "markdown",
   "id": "9196502c",
   "metadata": {},
   "source": [
    "#### 1.定义变量\n",
    "\n",
    "    定义变量： 英文字母，数字，下划线，数字必能开头。"
   ]
  },
  {
   "cell_type": "markdown",
   "id": "ee1ee263",
   "metadata": {},
   "source": [
    "#### 2.使用变量\n",
    "\n",
    "    使用一个定义过的变量，只要在变量名前面加美元符号即可，如：\n",
    "    your_name=\"qinjx\"\n",
    "    echo $your_name  或者  \n",
    "echo ${your_name}  \n",
    "    \n",
    "    *推荐： 调用变量的时候， 使用花括号， 是好的编程习惯， 防止出现不必要的麻烦。"
   ]
  },
  {
   "cell_type": "markdown",
   "id": "d0742521",
   "metadata": {},
   "source": [
    "#### 3.只读变量\n",
    "    使用 readonly 命令可以将变量定义为只读变量，只读变量的值不能被改变。\n",
    "    myUrl=\"https://www.google.com\"\n",
    "    readonly myUrl"
   ]
  },
  {
   "cell_type": "markdown",
   "id": "d77e55f6",
   "metadata": {},
   "source": [
    "#### 4.删除变量\n",
    "    使用 unset 命令可以删除变量。\n",
    "    变量被删除后不能再次使用。\n",
    "    unset variable_name"
   ]
  },
  {
   "cell_type": "markdown",
   "id": "b974a553",
   "metadata": {},
   "source": [
    "### Shell 字符串"
   ]
  },
  {
   "cell_type": "markdown",
   "id": "26e0a4f5",
   "metadata": {},
   "source": [
    "     字符串是shell编程中最常用最有用的数据类型（除了数字和字符串，也没啥其它类型好用了），字符串可以用单引号，也可以用双引号，也可以不用引号。"
   ]
  },
  {
   "cell_type": "markdown",
   "id": "e4bc3dc6",
   "metadata": {},
   "source": [
    "#### 1.拼接字符串"
   ]
  },
  {
   "cell_type": "markdown",
   "id": "ef78f4c7",
   "metadata": {},
   "source": [
    "    your_name=\"runoob\"\n",
    "    \n",
    "    使用双引号拼接\n",
    "    greeting=\"hello, \"$your_name\" !\"\n",
    "greeting_1=\"hello, ${your_name} !\"\n",
    "    echo $greeting  $greeting_1     运行定义的两个变量\n",
    "    \n",
    "    使用单引号拼接\n",
    "    greeting_2='hello, '$your_name' !'\n",
    "greeting_3='hello, ${your_name} !'\n",
    "    echo $greeting_2  $greeting_3     运行定义的两个变量"
   ]
  },
  {
   "cell_type": "markdown",
   "id": "b8a2fd13",
   "metadata": {},
   "source": [
    "#### 2.获取字符串长度"
   ]
  },
  {
   "cell_type": "markdown",
   "id": "08c472cd",
   "metadata": {},
   "source": [
    "    string=\"abcd\"\n",
    "    echo ${#string} #输出 4"
   ]
  },
  {
   "cell_type": "markdown",
   "id": "b54ed73e",
   "metadata": {},
   "source": [
    "#### 3.提取子字符串"
   ]
  },
  {
   "cell_type": "markdown",
   "id": "135429a1",
   "metadata": {},
   "source": [
    "    以下实例从字符串第 2 个字符开始截取 4 个字符：\n",
    "    string=\"runoob is a great site\"\n",
    "    echo ${string:1:4} # 输出 unoo\n",
    "    \n",
    "    *注意：第一个字符的索引值为 0。"
   ]
  },
  {
   "cell_type": "markdown",
   "id": "f212bca7",
   "metadata": {},
   "source": [
    "### Shell 传递参数"
   ]
  },
  {
   "cell_type": "markdown",
   "id": "a147d71a",
   "metadata": {},
   "source": [
    "    $#      传递到脚本的参数个数\n",
    "\n",
    "    $*      以一个单字符串显示所有向脚本传递的参数。 如\"$*\"用「\"」括起来的情况、以\"$1 $2 … $n\"的形式输出所有参数。\n",
    "    \n",
    "    $@     与$*相同，但是使用时加引号，并在引号中返回每个参数。 如\"$@\"用「\"」括起来的情况、以\"$1\" \"$2\" … \"$n\" 的形式输出所有参数。\n",
    "    \n",
    "    \n",
    "    $* 与 $@ 区别：\n",
    "\n",
    "    相同点：都是引用所有参数。\n",
    "    不同点：只有在双引号中体现出来。假设在脚本运行时写了三个参数 1、2、3，，则 \" * \" 等价于 \"1 2 3\"（传递了一个参数），\n",
    "             而 \"@\" 等价于 \"1\" \"2\" \"3\"（传递了三个参数）。\n",
    "          "
   ]
  },
  {
   "cell_type": "markdown",
   "id": "7b7ba1e1",
   "metadata": {},
   "source": [
    "0614 学习到这里\n",
    "https://www.runoob.com/linux/linux-shell-passing-arguments.html"
   ]
  },
  {
   "cell_type": "markdown",
   "id": "0f18d3c6",
   "metadata": {},
   "source": []
  },
  {
   "cell_type": "markdown",
   "id": "928afcbf",
   "metadata": {},
   "source": []
  },
  {
   "cell_type": "markdown",
   "id": "a51ce29e",
   "metadata": {},
   "source": []
  },
  {
   "cell_type": "markdown",
   "id": "5b1caf1f",
   "metadata": {},
   "source": []
  },
  {
   "cell_type": "markdown",
   "id": "d9c125e7",
   "metadata": {},
   "source": []
  },
  {
   "cell_type": "markdown",
   "id": "6bc078de",
   "metadata": {},
   "source": []
  },
  {
   "cell_type": "markdown",
   "id": "8a8b1e9c",
   "metadata": {},
   "source": []
  },
  {
   "cell_type": "markdown",
   "id": "16612666",
   "metadata": {},
   "source": []
  },
  {
   "cell_type": "markdown",
   "id": "8018e58a",
   "metadata": {},
   "source": []
  },
  {
   "cell_type": "markdown",
   "id": "b11d8acc",
   "metadata": {},
   "source": []
  },
  {
   "cell_type": "markdown",
   "id": "66c77f53",
   "metadata": {},
   "source": []
  },
  {
   "cell_type": "markdown",
   "id": "7b6c779f",
   "metadata": {},
   "source": []
  },
  {
   "cell_type": "markdown",
   "id": "1eaf1dd4",
   "metadata": {},
   "source": []
  },
  {
   "cell_type": "markdown",
   "id": "a6a7db10",
   "metadata": {},
   "source": []
  },
  {
   "cell_type": "markdown",
   "id": "9fede62e",
   "metadata": {},
   "source": []
  },
  {
   "cell_type": "markdown",
   "id": "5c9b6c51",
   "metadata": {},
   "source": []
  },
  {
   "cell_type": "markdown",
   "id": "cc456475",
   "metadata": {},
   "source": []
  },
  {
   "cell_type": "markdown",
   "id": "f8a4b0fd",
   "metadata": {},
   "source": []
  },
  {
   "cell_type": "markdown",
   "id": "5e4d468b",
   "metadata": {},
   "source": []
  }
 ],
 "metadata": {
  "kernelspec": {
   "display_name": "Python 3",
   "language": "python",
   "name": "python3"
  },
  "language_info": {
   "codemirror_mode": {
    "name": "ipython",
    "version": 3
   },
   "file_extension": ".py",
   "mimetype": "text/x-python",
   "name": "python",
   "nbconvert_exporter": "python",
   "pygments_lexer": "ipython3",
   "version": "3.9.2"
  }
 },
 "nbformat": 4,
 "nbformat_minor": 5
}
